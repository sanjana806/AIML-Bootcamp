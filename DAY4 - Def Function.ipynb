{
 "cells": [
  {
   "cell_type": "markdown",
   "id": "3df2ba7c-a5a9-4164-b447-3f8eaec943cc",
   "metadata": {},
   "source": [
    "<div style=\"background: linear-gradient(to right, #14213d, #2a9d8f);\n",
    "            padding: 30px;\n",
    "            border-radius: 20px;\n",
    "            box-shadow: 0 6px 20px rgba(0,0,0,0.15);\n",
    "            font-family: 'Segoe UI', sans-serif;\n",
    "            color: #ffffff;\n",
    "            text-align: center;\n",
    "            margin-bottom: 30px;\">\n",
    "\n",
    "  <h1 style=\"font-size: 2.8em; margin-bottom: 10px;\"> User Defined Functions in Python</h1>\n",
    "  <p style=\"font-size: 1.3em; font-weight: 300; margin-bottom: 20px;\"\n",
    "      >\n",
    "                       A Beginner-Friendly Notebook | Python function \n",
    "  </p>\n",
    "\n",
    "  <div style=\"display: inline-block; background: #e9c46a; color: #14213d;\n",
    "              padding: 8px 16px; border-radius: 50px;\n",
    "              font-weight: bold; font-size: 1em;\">\n",
    "     AIML Bootcamp\n",
    "  </div>\n",
    "\n",
    "  <p style=\"margin-top: 30px; font-size: 2.1em;\">\n",
    "     <strong>Sanjana Devi </strong>\n",
    "  </p>\n",
    "<span style=\"font-family: 'Arial', sans-serif;font-size: 18px; color: white;\"> \n",
    "    AI/ML Student | Intern @ CodroidHub Private Limited | First-Year Engineering Student.</span>\n",
    "    </div>\n",
    "    <div style=\"font-family: Arial, sans-serif; font-size: 14px; line-height: 1.6;\">\n",
    "    \n",
    "\n",
    "<br>\n"
   ]
  },
  {
   "cell_type": "markdown",
   "id": "6bd4c5d7",
   "metadata": {},
   "source": [
    "#  User-Defined Functions in Python (With and Without Input)\n",
    "\n",
    "---\n",
    " In this notebook, you'll learn how to define and use functions in Python:\n",
    "- Without user input\n",
    "- With user input\n",
    "- With parameters\n",
    "- With return values\n",
    "- With loop and conditions\n",
    "\n",
    "Let's begin! "
   ]
  },
  {
   "cell_type": "code",
   "execution_count": 5,
   "id": "ada28e43",
   "metadata": {},
   "outputs": [],
   "source": [
    "# What is a Function in Python?\n",
    "# A function is a block of code that performs a specific task.\n",
    "# It helps us reuse code and make programs more organized.\n",
    "# You can define a function using the 'def' keyword."
   ]
  },
  {
   "cell_type": "markdown",
   "id": "89fee570",
   "metadata": {},
   "source": [
    "## 1️Function WITHOUT Taking Input"
   ]
  },
  {
   "cell_type": "code",
   "execution_count": 6,
   "id": "d304f792",
   "metadata": {},
   "outputs": [
    {
     "name": "stdout",
     "output_type": "stream",
     "text": [
      "Hello! Welcome to Python programming.\n"
     ]
    }
   ],
   "source": [
    "def greet():\n",
    "    print(\"Hello! Welcome to Python programming.\")\n",
    "\n",
    "# Call the function\n",
    "greet()"
   ]
  },
  {
   "cell_type": "markdown",
   "id": "59f321e5",
   "metadata": {},
   "source": [
    "## 2️ Function WITH Input from the User"
   ]
  },
  {
   "cell_type": "code",
   "execution_count": null,
   "id": "8844fbc2",
   "metadata": {},
   "outputs": [],
   "source": [
    "def greet_user():\n",
    "    name = input(\"Enter your name: \")\n",
    "    print(\"Hello\", name + \"! Nice to meet you.\")\n",
    "\n",
    "# Call the function\n",
    "greet_user()"
   ]
  },
  {
   "cell_type": "markdown",
   "id": "1b20b345",
   "metadata": {},
   "source": [
    "## 3️ Function WITH Parameters (User enters while calling)"
   ]
  },
  {
   "cell_type": "code",
   "execution_count": null,
   "id": "2100e605",
   "metadata": {},
   "outputs": [],
   "source": [
    "def square(number):\n",
    "    print(\"Square of\", number, \"is\", number * number)\n",
    "\n",
    "# Call with a value\n",
    "square(5)"
   ]
  },
  {
   "cell_type": "markdown",
   "id": "5e1636f8",
   "metadata": {},
   "source": [
    "## 4️ Function that RETURNS a value"
   ]
  },
  {
   "cell_type": "code",
   "execution_count": null,
   "id": "6ecefe3a",
   "metadata": {},
   "outputs": [],
   "source": [
    "def add(a, b):\n",
    "    return a + b\n",
    "\n",
    "# Use the returned value\n",
    "result = add(10, 20)\n",
    "print(\"Addition result:\", result)"
   ]
  },
  {
   "cell_type": "markdown",
   "id": "102f4db2",
   "metadata": {},
   "source": [
    "##  Bonus: Function with Loop and Condition"
   ]
  },
  {
   "cell_type": "code",
   "execution_count": null,
   "id": "671c537e",
   "metadata": {},
   "outputs": [],
   "source": [
    "def print_even_numbers(limit):\n",
    "    print(\"Even numbers up to\", limit, \":\")\n",
    "    for i in range(1, limit + 1):\n",
    "        if i % 2 == 0:\n",
    "            print(i)\n",
    "\n",
    "# Call the function\n",
    "print_even_numbers(10)"
   ]
  },
  {
   "cell_type": "markdown",
   "id": "8d30689e",
   "metadata": {},
   "source": [
    "## 📘 Summary Table:\n",
    "| Function Type             | Example Function Name | Input?       | Output Type    |\n",
    "|--------------------------|-----------------------|--------------|----------------|\n",
    "| Without input            | `greet()`             |  No input   | Just prints    |\n",
    "| With input (inside)      | `greet_user()`        |  User input | Just prints    |\n",
    "| With parameters          | `square(number)`      |  From caller| Just prints    |\n",
    "| With return value        | `add(a, b)`           |  From caller| Returns value  |"
   ]
  },
  {
   "cell_type": "code",
   "execution_count": null,
   "id": "af46fd1e-4bfd-485b-be54-cb569e36e7e3",
   "metadata": {},
   "outputs": [],
   "source": []
  },
  {
   "cell_type": "markdown",
   "id": "6afdd8d4",
   "metadata": {},
   "source": [
    "## Tips for Beginners:\n",
    "- Always start a function with `def`.\n",
    "- Use clear function names.\n",
    "- Use comments `#` to explain each part of the code.\n",
    "- Use `return` if you want to use the result outside the function.\n",
    "\n",
    "---\n",
    " Created by **Sanjana Devi**  \n",
    " GitHub: [github.com/sanjana806](https://github.com/sanjana806)  \n",
    " Notebook created on: 2025-07-30"
   ]
  },
  {
   "cell_type": "markdown",
   "id": "bcaa5f7a-971e-4efb-959d-011bcda7e93c",
   "metadata": {},
   "source": [
    "<div style=\"background-color: #dcdcaa; padding: 10px; height: 100px; border-radius: 15px; position: relative;\">\n",
    "    <div style=\"font-family: 'Georgia', serif; font-size: 20px; padding: 10px; text-align: right; position: absolute; right: 20px;\">\n",
    "         SANJANA DEVI <br>\n",
    "        <span style=\"font-family: 'Arial', sans-serif;font-size: 12px; color: #0a0a0a;\"> AI/ML Student | Intern @ CodroidHub Private Limited | First-Year Engineering Student.</span>\n",
    "    </div>\n",
    "    <div style=\"font-family: Arial, sans-serif; font-size: 14px; line-height: 1.6;\">\n",
    "    <strong> Connect @</strong><br>\n",
    "     Mail (Sanjana): <a href=\"sanjanadevibihana@gmail.com\">sanjanadevibihana@gmail.com</a><br>\n",
    "     Contact: <a href=\"tel:+917015898741\">+91-6283762268</a><br>\n",
    "</div>\n",
    "</div>\n",
    "\n",
    "<br>\n",
    "\n",
    "<a href=\"https://www.linkedin.com/in/sanjana-devi-a95595339/\" target=\"_blank\">\n",
    "    <button style=\"padding: 8px 15px; background-color: #0e76a8; color: white; border: none; border-radius: 5px;\">SANJANA DEVI</button>\n",
    "</a>\n",
    "\n"
   ]
  },
  {
   "cell_type": "code",
   "execution_count": null,
   "id": "2edd9c20-6f48-44c6-8d4c-4d06c9215e79",
   "metadata": {},
   "outputs": [],
   "source": []
  }
 ],
 "metadata": {
  "kernelspec": {
   "display_name": "Python 3 (ipykernel)",
   "language": "python",
   "name": "python3"
  },
  "language_info": {
   "codemirror_mode": {
    "name": "ipython",
    "version": 3
   },
   "file_extension": ".py",
   "mimetype": "text/x-python",
   "name": "python",
   "nbconvert_exporter": "python",
   "pygments_lexer": "ipython3",
   "version": "3.13.5"
  }
 },
 "nbformat": 4,
 "nbformat_minor": 5
}
