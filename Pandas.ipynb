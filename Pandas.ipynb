{
 "cells": [
  {
   "cell_type": "markdown",
   "id": "d76deb79-c9d2-4284-8265-e2afdada3eec",
   "metadata": {},
   "source": [
    "<div style=\"background-color:#dcdcaa; padding: 10px; height: 100px; border-radius: 15px; position: relative;\">\n",
    "    <div style=\"font-family: 'Georgia', serif; font-size: 30px; padding: 10px; text-align:right ; position: absolute; right: 20px;\">\n",
    "        SANJANA DEVI <br>\n",
    "        <span style=\"font-family: 'Arial', sans-serif;font-size: 18px; color: #0a0a0a;\"> AI/ML Student | Intern @ CodroidHub Private Limited | First-Year Engineering Student.</span>\n",
    "    </div>\n",
    "    <div style=\"font-family: Arial, sans-serif; font-size: 14px;text-align: center; line-height: 1.6;\">\n",
    "    \n",
    "\n",
    "<br>"
   ]
  },
  {
   "cell_type": "markdown",
   "id": "c6f47631-8e45-4521-917a-53193b199e7f",
   "metadata": {},
   "source": [
    "<div style=\"background: linear-gradient(to right, #c9d6ff, #e2e2e2);\n",
    "            padding: 20px;\n",
    "            border-radius: 12px;\n",
    "            text-align: center;\n",
    "            color: #14213d;\n",
    "            font-family: 'Arial', sans-serif;\n",
    "            box-shadow: 2px 4px 10px rgba(0,0,0,0.15);\">\n",
    "\n",
    "  <h1 style=\"font-size: 28px; margin-bottom: 10px;\"> Artificial Intelligence / Machine Learning Bootcamp</h1>\n",
    "  <h3 style=\"font-size: 20px; color: #4a148c;\"> Python Library : pandas</h3>\n",
    "</div>\n",
    "\n",
    "<p style=\"font-size: 11px; text-align: right; font-family: 'Courier New', monospace; color: #666;\">\n",
    "  <!-- Sanjana Devi | CodroidHub Private Limited | All rights reserved -->\n",
    "</p>\n"
   ]
  },
  {
   "cell_type": "markdown",
   "id": "b13365e8-aefd-4630-9c54-a9106b3311f2",
   "metadata": {},
   "source": [
    "# What is Pandas?\n",
    "Pandas is an open-source Python library used for data manipulation, analysis, and cleaning. It allows you to work with data in table form (like Excel) using DataFrames and Series.\n",
    "\n",
    " ## Why Use Pandas?\n",
    "Easy to load and read files like CSV, Excel, JSON\n",
    "\n",
    "Helps in cleaning, filtering, sorting data\n",
    "\n",
    "Makes data analysis faster and simpler\n",
    "\n",
    "Works well with other libraries like NumPy and Matplotlib\n",
    "\n",
    "\n"
   ]
  },
  {
   "cell_type": "markdown",
   "id": "a0065f4d-5d0d-4829-aa2a-6c3dbc8d8b9e",
   "metadata": {},
   "source": [
    "# Creating Data"
   ]
  },
  {
   "cell_type": "code",
   "execution_count": 61,
   "id": "a76c5e79-b789-4eb2-a1ed-6f789ef38985",
   "metadata": {},
   "outputs": [],
   "source": [
    "import pandas as pd # Data Analysis"
   ]
  },
  {
   "cell_type": "code",
   "execution_count": 62,
   "id": "c837d422-4372-4438-86d6-8b97d458be30",
   "metadata": {},
   "outputs": [
    {
     "name": "stdout",
     "output_type": "stream",
     "text": [
      "['__add__', '__class__', '__contains__', '__delattr__', '__dir__', '__doc__', '__eq__', '__format__', '__ge__', '__getattribute__', '__getitem__', '__getnewargs__', '__getstate__', '__gt__', '__hash__', '__init__', '__init_subclass__', '__iter__', '__le__', '__len__', '__lt__', '__mod__', '__mul__', '__ne__', '__new__', '__reduce__', '__reduce_ex__', '__repr__', '__rmod__', '__rmul__', '__setattr__', '__sizeof__', '__str__', '__subclasshook__', 'capitalize', 'casefold', 'center', 'count', 'encode', 'endswith', 'expandtabs', 'find', 'format', 'format_map', 'index', 'isalnum', 'isalpha', 'isascii', 'isdecimal', 'isdigit', 'isidentifier', 'islower', 'isnumeric', 'isprintable', 'isspace', 'istitle', 'isupper', 'join', 'ljust', 'lower', 'lstrip', 'maketrans', 'partition', 'removeprefix', 'removesuffix', 'replace', 'rfind', 'rindex', 'rjust', 'rpartition', 'rsplit', 'rstrip', 'split', 'splitlines', 'startswith', 'strip', 'swapcase', 'title', 'translate', 'upper', 'zfill']\n"
     ]
    }
   ],
   "source": [
    "print(dir(\"pandas\"))"
   ]
  },
  {
   "cell_type": "markdown",
   "id": "3342081c-7ad1-4dcd-b047-cd5983d7535a",
   "metadata": {},
   "source": [
    "| Function                   | Description                            |\n",
    "| -------------------------- | -------------------------------------- |\n",
    "| `pd.Series()`              | Create a one-dimensional labeled array |\n",
    "| `pd.DataFrame()`           | Create a 2D table (rows and columns)   |\n",
    "| `pd.read_csv()`            | Read data from a CSV file              |\n",
    "| `pd.read_excel()`          | Read data from an Excel file           |\n",
    "| `pd.read_json()`           | Read JSON data                         |\n",
    "| `pd.DataFrame.from_dict()` | Create DataFrame from dictionary       |\n"
   ]
  },
  {
   "cell_type": "code",
   "execution_count": 63,
   "id": "99a096f4-c744-4adc-8321-cf60e1bffdfe",
   "metadata": {},
   "outputs": [],
   "source": [
    "df1 = pd.read_csv('final_dataset.csv') #Dataframe"
   ]
  },
  {
   "cell_type": "code",
   "execution_count": 64,
   "id": "a7e99270-646c-4dd5-93f3-b85a65a99737",
   "metadata": {},
   "outputs": [
    {
     "name": "stdout",
     "output_type": "stream",
     "text": [
      "      Date  Month  Year  Holidays_Count  Days   PM2.5    PM10     NO2    SO2  \\\n",
      "0        1      1  2021               0     5  408.80  442.42  160.61  12.95   \n",
      "1        2      1  2021               0     6  404.04  561.95   52.85   5.18   \n",
      "2        3      1  2021               1     7  225.07  239.04  170.95  10.93   \n",
      "3        4      1  2021               0     1   89.55  132.08  153.98  10.42   \n",
      "4        5      1  2021               0     2   54.06   55.54  122.66   9.70   \n",
      "...    ...    ...   ...             ...   ...     ...     ...     ...    ...   \n",
      "1456    27     12  2024               0     5   58.43  249.17   41.69  65.89   \n",
      "1457    28     12  2024               0     6   33.83  150.77   33.31  66.14   \n",
      "1458    29     12  2024               1     7   31.21  139.75   27.01  65.94   \n",
      "1459    30     12  2024               0     1   38.01  152.83   29.12  65.16   \n",
      "1460    31     12  2024               0     2   80.42  318.96   40.37  64.98   \n",
      "\n",
      "        CO  Ozone  AQI  \n",
      "0     2.77  43.19  462  \n",
      "1     2.60  16.43  482  \n",
      "2     1.40  44.29  263  \n",
      "3     1.01  49.19  207  \n",
      "4     0.64  48.88  149  \n",
      "...    ...    ...  ...  \n",
      "1456  0.99  36.25  263  \n",
      "1457  0.79  35.19  113  \n",
      "1458  0.57  35.88  142  \n",
      "1459  0.55  38.38  116  \n",
      "1460  0.84  39.93  209  \n",
      "\n",
      "[1461 rows x 12 columns]\n"
     ]
    }
   ],
   "source": [
    "df=pd.DataFrame(df1)\n",
    "print(df)"
   ]
  },
  {
   "cell_type": "markdown",
   "id": "91fb5556-ec6a-41f9-b1aa-e30ed8997f82",
   "metadata": {},
   "source": [
    "2. Inspecting Data"
   ]
  },
  {
   "cell_type": "code",
   "execution_count": 65,
   "id": "b4ce97ac-b711-4539-a343-39beeb34dff7",
   "metadata": {},
   "outputs": [
    {
     "data": {
      "text/html": [
       "<div>\n",
       "<style scoped>\n",
       "    .dataframe tbody tr th:only-of-type {\n",
       "        vertical-align: middle;\n",
       "    }\n",
       "\n",
       "    .dataframe tbody tr th {\n",
       "        vertical-align: top;\n",
       "    }\n",
       "\n",
       "    .dataframe thead th {\n",
       "        text-align: right;\n",
       "    }\n",
       "</style>\n",
       "<table border=\"1\" class=\"dataframe\">\n",
       "  <thead>\n",
       "    <tr style=\"text-align: right;\">\n",
       "      <th></th>\n",
       "      <th>Date</th>\n",
       "      <th>Month</th>\n",
       "      <th>Year</th>\n",
       "      <th>Holidays_Count</th>\n",
       "      <th>Days</th>\n",
       "      <th>PM2.5</th>\n",
       "      <th>PM10</th>\n",
       "      <th>NO2</th>\n",
       "      <th>SO2</th>\n",
       "      <th>CO</th>\n",
       "      <th>Ozone</th>\n",
       "      <th>AQI</th>\n",
       "    </tr>\n",
       "  </thead>\n",
       "  <tbody>\n",
       "    <tr>\n",
       "      <th>0</th>\n",
       "      <td>1</td>\n",
       "      <td>1</td>\n",
       "      <td>2021</td>\n",
       "      <td>0</td>\n",
       "      <td>5</td>\n",
       "      <td>408.80</td>\n",
       "      <td>442.42</td>\n",
       "      <td>160.61</td>\n",
       "      <td>12.95</td>\n",
       "      <td>2.77</td>\n",
       "      <td>43.19</td>\n",
       "      <td>462</td>\n",
       "    </tr>\n",
       "    <tr>\n",
       "      <th>1</th>\n",
       "      <td>2</td>\n",
       "      <td>1</td>\n",
       "      <td>2021</td>\n",
       "      <td>0</td>\n",
       "      <td>6</td>\n",
       "      <td>404.04</td>\n",
       "      <td>561.95</td>\n",
       "      <td>52.85</td>\n",
       "      <td>5.18</td>\n",
       "      <td>2.60</td>\n",
       "      <td>16.43</td>\n",
       "      <td>482</td>\n",
       "    </tr>\n",
       "    <tr>\n",
       "      <th>2</th>\n",
       "      <td>3</td>\n",
       "      <td>1</td>\n",
       "      <td>2021</td>\n",
       "      <td>1</td>\n",
       "      <td>7</td>\n",
       "      <td>225.07</td>\n",
       "      <td>239.04</td>\n",
       "      <td>170.95</td>\n",
       "      <td>10.93</td>\n",
       "      <td>1.40</td>\n",
       "      <td>44.29</td>\n",
       "      <td>263</td>\n",
       "    </tr>\n",
       "    <tr>\n",
       "      <th>3</th>\n",
       "      <td>4</td>\n",
       "      <td>1</td>\n",
       "      <td>2021</td>\n",
       "      <td>0</td>\n",
       "      <td>1</td>\n",
       "      <td>89.55</td>\n",
       "      <td>132.08</td>\n",
       "      <td>153.98</td>\n",
       "      <td>10.42</td>\n",
       "      <td>1.01</td>\n",
       "      <td>49.19</td>\n",
       "      <td>207</td>\n",
       "    </tr>\n",
       "    <tr>\n",
       "      <th>4</th>\n",
       "      <td>5</td>\n",
       "      <td>1</td>\n",
       "      <td>2021</td>\n",
       "      <td>0</td>\n",
       "      <td>2</td>\n",
       "      <td>54.06</td>\n",
       "      <td>55.54</td>\n",
       "      <td>122.66</td>\n",
       "      <td>9.70</td>\n",
       "      <td>0.64</td>\n",
       "      <td>48.88</td>\n",
       "      <td>149</td>\n",
       "    </tr>\n",
       "  </tbody>\n",
       "</table>\n",
       "</div>"
      ],
      "text/plain": [
       "   Date  Month  Year  Holidays_Count  Days   PM2.5    PM10     NO2    SO2  \\\n",
       "0     1      1  2021               0     5  408.80  442.42  160.61  12.95   \n",
       "1     2      1  2021               0     6  404.04  561.95   52.85   5.18   \n",
       "2     3      1  2021               1     7  225.07  239.04  170.95  10.93   \n",
       "3     4      1  2021               0     1   89.55  132.08  153.98  10.42   \n",
       "4     5      1  2021               0     2   54.06   55.54  122.66   9.70   \n",
       "\n",
       "     CO  Ozone  AQI  \n",
       "0  2.77  43.19  462  \n",
       "1  2.60  16.43  482  \n",
       "2  1.40  44.29  263  \n",
       "3  1.01  49.19  207  \n",
       "4  0.64  48.88  149  "
      ]
     },
     "execution_count": 65,
     "metadata": {},
     "output_type": "execute_result"
    }
   ],
   "source": [
    "df.head()"
   ]
  },
  {
   "cell_type": "code",
   "execution_count": 66,
   "id": "c0322d8b-7d4a-4002-971e-006501ed96d2",
   "metadata": {},
   "outputs": [
    {
     "data": {
      "text/html": [
       "<div>\n",
       "<style scoped>\n",
       "    .dataframe tbody tr th:only-of-type {\n",
       "        vertical-align: middle;\n",
       "    }\n",
       "\n",
       "    .dataframe tbody tr th {\n",
       "        vertical-align: top;\n",
       "    }\n",
       "\n",
       "    .dataframe thead th {\n",
       "        text-align: right;\n",
       "    }\n",
       "</style>\n",
       "<table border=\"1\" class=\"dataframe\">\n",
       "  <thead>\n",
       "    <tr style=\"text-align: right;\">\n",
       "      <th></th>\n",
       "      <th>Date</th>\n",
       "      <th>Month</th>\n",
       "      <th>Year</th>\n",
       "      <th>Holidays_Count</th>\n",
       "      <th>Days</th>\n",
       "      <th>PM2.5</th>\n",
       "      <th>PM10</th>\n",
       "      <th>NO2</th>\n",
       "      <th>SO2</th>\n",
       "      <th>CO</th>\n",
       "      <th>Ozone</th>\n",
       "      <th>AQI</th>\n",
       "    </tr>\n",
       "  </thead>\n",
       "  <tbody>\n",
       "    <tr>\n",
       "      <th>1456</th>\n",
       "      <td>27</td>\n",
       "      <td>12</td>\n",
       "      <td>2024</td>\n",
       "      <td>0</td>\n",
       "      <td>5</td>\n",
       "      <td>58.43</td>\n",
       "      <td>249.17</td>\n",
       "      <td>41.69</td>\n",
       "      <td>65.89</td>\n",
       "      <td>0.99</td>\n",
       "      <td>36.25</td>\n",
       "      <td>263</td>\n",
       "    </tr>\n",
       "    <tr>\n",
       "      <th>1457</th>\n",
       "      <td>28</td>\n",
       "      <td>12</td>\n",
       "      <td>2024</td>\n",
       "      <td>0</td>\n",
       "      <td>6</td>\n",
       "      <td>33.83</td>\n",
       "      <td>150.77</td>\n",
       "      <td>33.31</td>\n",
       "      <td>66.14</td>\n",
       "      <td>0.79</td>\n",
       "      <td>35.19</td>\n",
       "      <td>113</td>\n",
       "    </tr>\n",
       "    <tr>\n",
       "      <th>1458</th>\n",
       "      <td>29</td>\n",
       "      <td>12</td>\n",
       "      <td>2024</td>\n",
       "      <td>1</td>\n",
       "      <td>7</td>\n",
       "      <td>31.21</td>\n",
       "      <td>139.75</td>\n",
       "      <td>27.01</td>\n",
       "      <td>65.94</td>\n",
       "      <td>0.57</td>\n",
       "      <td>35.88</td>\n",
       "      <td>142</td>\n",
       "    </tr>\n",
       "    <tr>\n",
       "      <th>1459</th>\n",
       "      <td>30</td>\n",
       "      <td>12</td>\n",
       "      <td>2024</td>\n",
       "      <td>0</td>\n",
       "      <td>1</td>\n",
       "      <td>38.01</td>\n",
       "      <td>152.83</td>\n",
       "      <td>29.12</td>\n",
       "      <td>65.16</td>\n",
       "      <td>0.55</td>\n",
       "      <td>38.38</td>\n",
       "      <td>116</td>\n",
       "    </tr>\n",
       "    <tr>\n",
       "      <th>1460</th>\n",
       "      <td>31</td>\n",
       "      <td>12</td>\n",
       "      <td>2024</td>\n",
       "      <td>0</td>\n",
       "      <td>2</td>\n",
       "      <td>80.42</td>\n",
       "      <td>318.96</td>\n",
       "      <td>40.37</td>\n",
       "      <td>64.98</td>\n",
       "      <td>0.84</td>\n",
       "      <td>39.93</td>\n",
       "      <td>209</td>\n",
       "    </tr>\n",
       "  </tbody>\n",
       "</table>\n",
       "</div>"
      ],
      "text/plain": [
       "      Date  Month  Year  Holidays_Count  Days  PM2.5    PM10    NO2    SO2  \\\n",
       "1456    27     12  2024               0     5  58.43  249.17  41.69  65.89   \n",
       "1457    28     12  2024               0     6  33.83  150.77  33.31  66.14   \n",
       "1458    29     12  2024               1     7  31.21  139.75  27.01  65.94   \n",
       "1459    30     12  2024               0     1  38.01  152.83  29.12  65.16   \n",
       "1460    31     12  2024               0     2  80.42  318.96  40.37  64.98   \n",
       "\n",
       "        CO  Ozone  AQI  \n",
       "1456  0.99  36.25  263  \n",
       "1457  0.79  35.19  113  \n",
       "1458  0.57  35.88  142  \n",
       "1459  0.55  38.38  116  \n",
       "1460  0.84  39.93  209  "
      ]
     },
     "execution_count": 66,
     "metadata": {},
     "output_type": "execute_result"
    }
   ],
   "source": [
    "df.tail()"
   ]
  },
  {
   "cell_type": "code",
   "execution_count": 67,
   "id": "bd65e235-27ce-4b0a-af07-12025453257b",
   "metadata": {},
   "outputs": [
    {
     "data": {
      "text/plain": [
       "(1461, 12)"
      ]
     },
     "execution_count": 67,
     "metadata": {},
     "output_type": "execute_result"
    }
   ],
   "source": [
    "df.shape"
   ]
  },
  {
   "cell_type": "code",
   "execution_count": 68,
   "id": "e7f3c206-8b8c-40c9-9649-ed70f0d96f7e",
   "metadata": {},
   "outputs": [
    {
     "data": {
      "text/plain": [
       "Index(['Date', 'Month', 'Year', 'Holidays_Count', 'Days', 'PM2.5', 'PM10',\n",
       "       'NO2', 'SO2', 'CO', 'Ozone', 'AQI'],\n",
       "      dtype='object')"
      ]
     },
     "execution_count": 68,
     "metadata": {},
     "output_type": "execute_result"
    }
   ],
   "source": [
    "df.columns"
   ]
  },
  {
   "cell_type": "code",
   "execution_count": 69,
   "id": "8b43436e-a61d-4d6c-b31a-ef972a13a1fd",
   "metadata": {},
   "outputs": [
    {
     "data": {
      "text/plain": [
       "RangeIndex(start=0, stop=1461, step=1)"
      ]
     },
     "execution_count": 69,
     "metadata": {},
     "output_type": "execute_result"
    }
   ],
   "source": [
    "df.index"
   ]
  },
  {
   "cell_type": "code",
   "execution_count": 70,
   "id": "8f696625-cac5-4d8e-9bdd-801adf34e7e2",
   "metadata": {},
   "outputs": [
    {
     "name": "stdout",
     "output_type": "stream",
     "text": [
      "<class 'pandas.core.frame.DataFrame'>\n",
      "RangeIndex: 1461 entries, 0 to 1460\n",
      "Data columns (total 12 columns):\n",
      " #   Column          Non-Null Count  Dtype  \n",
      "---  ------          --------------  -----  \n",
      " 0   Date            1461 non-null   int64  \n",
      " 1   Month           1461 non-null   int64  \n",
      " 2   Year            1461 non-null   int64  \n",
      " 3   Holidays_Count  1461 non-null   int64  \n",
      " 4   Days            1461 non-null   int64  \n",
      " 5   PM2.5           1461 non-null   float64\n",
      " 6   PM10            1461 non-null   float64\n",
      " 7   NO2             1461 non-null   float64\n",
      " 8   SO2             1461 non-null   float64\n",
      " 9   CO              1461 non-null   float64\n",
      " 10  Ozone           1461 non-null   float64\n",
      " 11  AQI             1461 non-null   int64  \n",
      "dtypes: float64(6), int64(6)\n",
      "memory usage: 137.1 KB\n"
     ]
    }
   ],
   "source": [
    "df.info()"
   ]
  },
  {
   "cell_type": "code",
   "execution_count": 71,
   "id": "393264be-3932-4ddc-8a55-b6f7034f6489",
   "metadata": {},
   "outputs": [
    {
     "data": {
      "text/html": [
       "<div>\n",
       "<style scoped>\n",
       "    .dataframe tbody tr th:only-of-type {\n",
       "        vertical-align: middle;\n",
       "    }\n",
       "\n",
       "    .dataframe tbody tr th {\n",
       "        vertical-align: top;\n",
       "    }\n",
       "\n",
       "    .dataframe thead th {\n",
       "        text-align: right;\n",
       "    }\n",
       "</style>\n",
       "<table border=\"1\" class=\"dataframe\">\n",
       "  <thead>\n",
       "    <tr style=\"text-align: right;\">\n",
       "      <th></th>\n",
       "      <th>Date</th>\n",
       "      <th>Month</th>\n",
       "      <th>Year</th>\n",
       "      <th>Holidays_Count</th>\n",
       "      <th>Days</th>\n",
       "      <th>PM2.5</th>\n",
       "      <th>PM10</th>\n",
       "      <th>NO2</th>\n",
       "      <th>SO2</th>\n",
       "      <th>CO</th>\n",
       "      <th>Ozone</th>\n",
       "      <th>AQI</th>\n",
       "    </tr>\n",
       "  </thead>\n",
       "  <tbody>\n",
       "    <tr>\n",
       "      <th>count</th>\n",
       "      <td>1461.000000</td>\n",
       "      <td>1461.000000</td>\n",
       "      <td>1461.000000</td>\n",
       "      <td>1461.000000</td>\n",
       "      <td>1461.000000</td>\n",
       "      <td>1461.000000</td>\n",
       "      <td>1461.000000</td>\n",
       "      <td>1461.000000</td>\n",
       "      <td>1461.000000</td>\n",
       "      <td>1461.000000</td>\n",
       "      <td>1461.000000</td>\n",
       "      <td>1461.000000</td>\n",
       "    </tr>\n",
       "    <tr>\n",
       "      <th>mean</th>\n",
       "      <td>15.729637</td>\n",
       "      <td>6.522930</td>\n",
       "      <td>2022.501027</td>\n",
       "      <td>0.189596</td>\n",
       "      <td>4.000684</td>\n",
       "      <td>90.774538</td>\n",
       "      <td>218.219261</td>\n",
       "      <td>37.184921</td>\n",
       "      <td>20.104921</td>\n",
       "      <td>1.025832</td>\n",
       "      <td>36.338871</td>\n",
       "      <td>202.210815</td>\n",
       "    </tr>\n",
       "    <tr>\n",
       "      <th>std</th>\n",
       "      <td>8.803105</td>\n",
       "      <td>3.449884</td>\n",
       "      <td>1.118723</td>\n",
       "      <td>0.392116</td>\n",
       "      <td>2.001883</td>\n",
       "      <td>71.650579</td>\n",
       "      <td>129.297734</td>\n",
       "      <td>35.225327</td>\n",
       "      <td>16.543659</td>\n",
       "      <td>0.608305</td>\n",
       "      <td>18.951204</td>\n",
       "      <td>107.801076</td>\n",
       "    </tr>\n",
       "    <tr>\n",
       "      <th>min</th>\n",
       "      <td>1.000000</td>\n",
       "      <td>1.000000</td>\n",
       "      <td>2021.000000</td>\n",
       "      <td>0.000000</td>\n",
       "      <td>1.000000</td>\n",
       "      <td>0.050000</td>\n",
       "      <td>9.690000</td>\n",
       "      <td>2.160000</td>\n",
       "      <td>1.210000</td>\n",
       "      <td>0.270000</td>\n",
       "      <td>2.700000</td>\n",
       "      <td>19.000000</td>\n",
       "    </tr>\n",
       "    <tr>\n",
       "      <th>25%</th>\n",
       "      <td>8.000000</td>\n",
       "      <td>4.000000</td>\n",
       "      <td>2022.000000</td>\n",
       "      <td>0.000000</td>\n",
       "      <td>2.000000</td>\n",
       "      <td>41.280000</td>\n",
       "      <td>115.110000</td>\n",
       "      <td>17.280000</td>\n",
       "      <td>7.710000</td>\n",
       "      <td>0.610000</td>\n",
       "      <td>24.100000</td>\n",
       "      <td>108.000000</td>\n",
       "    </tr>\n",
       "    <tr>\n",
       "      <th>50%</th>\n",
       "      <td>16.000000</td>\n",
       "      <td>7.000000</td>\n",
       "      <td>2023.000000</td>\n",
       "      <td>0.000000</td>\n",
       "      <td>4.000000</td>\n",
       "      <td>72.060000</td>\n",
       "      <td>199.800000</td>\n",
       "      <td>30.490000</td>\n",
       "      <td>15.430000</td>\n",
       "      <td>0.850000</td>\n",
       "      <td>32.470000</td>\n",
       "      <td>189.000000</td>\n",
       "    </tr>\n",
       "    <tr>\n",
       "      <th>75%</th>\n",
       "      <td>23.000000</td>\n",
       "      <td>10.000000</td>\n",
       "      <td>2024.000000</td>\n",
       "      <td>0.000000</td>\n",
       "      <td>6.000000</td>\n",
       "      <td>118.500000</td>\n",
       "      <td>297.750000</td>\n",
       "      <td>45.010000</td>\n",
       "      <td>26.620000</td>\n",
       "      <td>1.240000</td>\n",
       "      <td>45.730000</td>\n",
       "      <td>284.000000</td>\n",
       "    </tr>\n",
       "    <tr>\n",
       "      <th>max</th>\n",
       "      <td>31.000000</td>\n",
       "      <td>12.000000</td>\n",
       "      <td>2024.000000</td>\n",
       "      <td>1.000000</td>\n",
       "      <td>7.000000</td>\n",
       "      <td>1000.000000</td>\n",
       "      <td>1000.000000</td>\n",
       "      <td>433.980000</td>\n",
       "      <td>113.400000</td>\n",
       "      <td>4.700000</td>\n",
       "      <td>115.870000</td>\n",
       "      <td>500.000000</td>\n",
       "    </tr>\n",
       "  </tbody>\n",
       "</table>\n",
       "</div>"
      ],
      "text/plain": [
       "              Date        Month         Year  Holidays_Count         Days  \\\n",
       "count  1461.000000  1461.000000  1461.000000     1461.000000  1461.000000   \n",
       "mean     15.729637     6.522930  2022.501027        0.189596     4.000684   \n",
       "std       8.803105     3.449884     1.118723        0.392116     2.001883   \n",
       "min       1.000000     1.000000  2021.000000        0.000000     1.000000   \n",
       "25%       8.000000     4.000000  2022.000000        0.000000     2.000000   \n",
       "50%      16.000000     7.000000  2023.000000        0.000000     4.000000   \n",
       "75%      23.000000    10.000000  2024.000000        0.000000     6.000000   \n",
       "max      31.000000    12.000000  2024.000000        1.000000     7.000000   \n",
       "\n",
       "             PM2.5         PM10          NO2          SO2           CO  \\\n",
       "count  1461.000000  1461.000000  1461.000000  1461.000000  1461.000000   \n",
       "mean     90.774538   218.219261    37.184921    20.104921     1.025832   \n",
       "std      71.650579   129.297734    35.225327    16.543659     0.608305   \n",
       "min       0.050000     9.690000     2.160000     1.210000     0.270000   \n",
       "25%      41.280000   115.110000    17.280000     7.710000     0.610000   \n",
       "50%      72.060000   199.800000    30.490000    15.430000     0.850000   \n",
       "75%     118.500000   297.750000    45.010000    26.620000     1.240000   \n",
       "max    1000.000000  1000.000000   433.980000   113.400000     4.700000   \n",
       "\n",
       "             Ozone          AQI  \n",
       "count  1461.000000  1461.000000  \n",
       "mean     36.338871   202.210815  \n",
       "std      18.951204   107.801076  \n",
       "min       2.700000    19.000000  \n",
       "25%      24.100000   108.000000  \n",
       "50%      32.470000   189.000000  \n",
       "75%      45.730000   284.000000  \n",
       "max     115.870000   500.000000  "
      ]
     },
     "execution_count": 71,
     "metadata": {},
     "output_type": "execute_result"
    }
   ],
   "source": [
    "df.describe()"
   ]
  },
  {
   "cell_type": "code",
   "execution_count": 72,
   "id": "be0ca702-8c8d-4809-8097-a89c5c509028",
   "metadata": {},
   "outputs": [
    {
     "data": {
      "text/plain": [
       "Date                int64\n",
       "Month               int64\n",
       "Year                int64\n",
       "Holidays_Count      int64\n",
       "Days                int64\n",
       "PM2.5             float64\n",
       "PM10              float64\n",
       "NO2               float64\n",
       "SO2               float64\n",
       "CO                float64\n",
       "Ozone             float64\n",
       "AQI                 int64\n",
       "dtype: object"
      ]
     },
     "execution_count": 72,
     "metadata": {},
     "output_type": "execute_result"
    }
   ],
   "source": [
    "df.dtypes"
   ]
  },
  {
   "cell_type": "markdown",
   "id": "11f96e15-472d-427e-9a72-f0df8f7545ec",
   "metadata": {},
   "source": [
    "### Note: What do `int64` and `float64` mean in pandas?\n",
    "\n",
    "These are **data types** used by **NumPy** and **pandas** to represent numbers in a DataFrame or Series.\n",
    "\n",
    "---\n",
    "\n",
    "###  `int64` → **Integer** numbers (whole numbers)\n",
    "\n",
    "* Example: `1`, `25`, `-7`, `1000`\n",
    "* `int` = integer\n",
    "* `64` = uses 64 bits of memory to store the value\n",
    "\n",
    "It can store **very large or very small** whole numbers (positive or negative).\n",
    "\n",
    "---\n",
    "\n",
    "###  `float64` → **Floating point numbers** (decimal numbers)\n",
    "\n",
    "* Example: `1.5`, `3.14`, `-7.0`, `2.0`\n",
    "* `float` = decimal number\n",
    "* `64` = uses 64 bits of memory to store the value\n",
    "\n",
    " Used when the number has **decimal points**."
   ]
  },
  {
   "cell_type": "code",
   "execution_count": 83,
   "id": "afa3dcdd-7098-4760-a409-585c160b63aa",
   "metadata": {},
   "outputs": [
    {
     "name": "stdout",
     "output_type": "stream",
     "text": [
      "Age        int64\n",
      "Marks    float64\n",
      "dtype: object\n"
     ]
    }
   ],
   "source": [
    "import pandas as pd\n",
    "\n",
    "data = {\n",
    "    'Age': [23, 25, 22],\n",
    "    'Marks': [85.5, 90.0, 78.25]\n",
    "}\n",
    "\n",
    "df = pd.DataFrame(data)\n",
    "print(df.dtypes)\n",
    "\n",
    " #**Output:**\n",
    "\n",
    "\n",
    "#Age       int64\n",
    "#Marks    float64\n",
    "#dtype: object\n",
    "\n",
    "\n",
    " #So:\n",
    "\n",
    "#* `Age` column contains integers → `int64`\n",
    "#* `Marks` column contains decimals → `float64`\n",
    "\n"
   ]
  },
  {
   "cell_type": "markdown",
   "id": "60e3c2f6-2ea3-4a5e-bc06-c2d6a0417389",
   "metadata": {},
   "source": [
    "| Function        | Description              |\n",
    "| --------------- | ------------------------ |\n",
    "| `df.head(n)`    | First `n` rows           |\n",
    "| `df.tail(n)`    | Last `n` rows            |\n",
    "| `df.shape`      | Rows and columns (tuple) |\n",
    "| `df.columns`    | List of column names     |\n",
    "| `df.index`      | List of row labels       |\n",
    "| `df.info()`     | Summary of DataFrame     |\n",
    "| `df.describe()` | Stats of numeric columns |\n",
    "| `df.dtypes`     | Data types of columns    |\n"
   ]
  },
  {
   "cell_type": "markdown",
   "id": "75fad2fd-e146-45df-9d80-637a6bd28d9c",
   "metadata": {},
   "source": [
    "# 3. Selecting Data"
   ]
  },
  {
   "cell_type": "code",
   "execution_count": 84,
   "id": "e55515d6-192c-455e-a471-26aaff4810e8",
   "metadata": {},
   "outputs": [
    {
     "data": {
      "text/plain": [
       "0    23\n",
       "1    25\n",
       "2    22\n",
       "Name: Age, dtype: int64"
      ]
     },
     "execution_count": 84,
     "metadata": {},
     "output_type": "execute_result"
    }
   ],
   "source": [
    "\n",
    " df[\"Age\"]"
   ]
  },
  {
   "cell_type": "code",
   "execution_count": 85,
   "id": "267b5a24-a255-4043-84c5-9d08366ae1ea",
   "metadata": {},
   "outputs": [
    {
     "data": {
      "text/html": [
       "<div>\n",
       "<style scoped>\n",
       "    .dataframe tbody tr th:only-of-type {\n",
       "        vertical-align: middle;\n",
       "    }\n",
       "\n",
       "    .dataframe tbody tr th {\n",
       "        vertical-align: top;\n",
       "    }\n",
       "\n",
       "    .dataframe thead th {\n",
       "        text-align: right;\n",
       "    }\n",
       "</style>\n",
       "<table border=\"1\" class=\"dataframe\">\n",
       "  <thead>\n",
       "    <tr style=\"text-align: right;\">\n",
       "      <th></th>\n",
       "      <th>Age</th>\n",
       "      <th>Marks</th>\n",
       "    </tr>\n",
       "  </thead>\n",
       "  <tbody>\n",
       "    <tr>\n",
       "      <th>0</th>\n",
       "      <td>23</td>\n",
       "      <td>85.50</td>\n",
       "    </tr>\n",
       "    <tr>\n",
       "      <th>1</th>\n",
       "      <td>25</td>\n",
       "      <td>90.00</td>\n",
       "    </tr>\n",
       "    <tr>\n",
       "      <th>2</th>\n",
       "      <td>22</td>\n",
       "      <td>78.25</td>\n",
       "    </tr>\n",
       "  </tbody>\n",
       "</table>\n",
       "</div>"
      ],
      "text/plain": [
       "   Age  Marks\n",
       "0   23  85.50\n",
       "1   25  90.00\n",
       "2   22  78.25"
      ]
     },
     "execution_count": 85,
     "metadata": {},
     "output_type": "execute_result"
    }
   ],
   "source": [
    "df[['Age', 'Marks']]"
   ]
  },
  {
   "cell_type": "code",
   "execution_count": 86,
   "id": "c55cbb6a-cd77-4f1f-9128-775a1613c194",
   "metadata": {},
   "outputs": [
    {
     "data": {
      "text/plain": [
       "Age      25.0\n",
       "Marks    90.0\n",
       "Name: 1, dtype: float64"
      ]
     },
     "execution_count": 86,
     "metadata": {},
     "output_type": "execute_result"
    }
   ],
   "source": [
    "df.iloc[1]"
   ]
  },
  {
   "cell_type": "code",
   "execution_count": 88,
   "id": "e62c322a-1bf1-4045-bb5a-7b1a68508b08",
   "metadata": {},
   "outputs": [
    {
     "data": {
      "text/html": [
       "<div>\n",
       "<style scoped>\n",
       "    .dataframe tbody tr th:only-of-type {\n",
       "        vertical-align: middle;\n",
       "    }\n",
       "\n",
       "    .dataframe tbody tr th {\n",
       "        vertical-align: top;\n",
       "    }\n",
       "\n",
       "    .dataframe thead th {\n",
       "        text-align: right;\n",
       "    }\n",
       "</style>\n",
       "<table border=\"1\" class=\"dataframe\">\n",
       "  <thead>\n",
       "    <tr style=\"text-align: right;\">\n",
       "      <th></th>\n",
       "      <th>Age</th>\n",
       "      <th>Marks</th>\n",
       "    </tr>\n",
       "  </thead>\n",
       "  <tbody>\n",
       "    <tr>\n",
       "      <th>0</th>\n",
       "      <td>23</td>\n",
       "      <td>85.50</td>\n",
       "    </tr>\n",
       "    <tr>\n",
       "      <th>1</th>\n",
       "      <td>25</td>\n",
       "      <td>90.00</td>\n",
       "    </tr>\n",
       "    <tr>\n",
       "      <th>2</th>\n",
       "      <td>22</td>\n",
       "      <td>78.25</td>\n",
       "    </tr>\n",
       "  </tbody>\n",
       "</table>\n",
       "</div>"
      ],
      "text/plain": [
       "   Age  Marks\n",
       "0   23  85.50\n",
       "1   25  90.00\n",
       "2   22  78.25"
      ]
     },
     "execution_count": 88,
     "metadata": {},
     "output_type": "execute_result"
    }
   ],
   "source": [
    "df[df['Age'] > 9]"
   ]
  },
  {
   "cell_type": "markdown",
   "id": "e61edac5-3508-4d75-acc4-ad3740e4f0c8",
   "metadata": {},
   "source": [
    "| Function                | Description                |\n",
    "| ----------------------- | -------------------------- |\n",
    "| `df['column']`          | Select one column          |\n",
    "| `df[['col1', 'col2']]`  | Select multiple columns    |\n",
    "| `df.iloc[row_idx]`      | Select by index (position) |\n",
    "| `df.loc[row_label]`     | Select by label            |\n",
    "| `df[df['col'] > value]` | Conditional filter         |\n"
   ]
  },
  {
   "cell_type": "markdown",
   "id": "9a7a1788-c89e-4b4c-9ca5-341d80ead8d3",
   "metadata": {},
   "source": [
    "# 4. Modifying Data"
   ]
  },
  {
   "cell_type": "code",
   "execution_count": 92,
   "id": "b6300532-f4b6-432f-8345-ac15c2aa202f",
   "metadata": {},
   "outputs": [
    {
     "name": "stdout",
     "output_type": "stream",
     "text": [
      "   Age  Marks Student_Name name\n",
      "0   23  85.50           sa   sa\n",
      "1   25  90.00           df   df\n",
      "2   22  78.25           nj   nj\n"
     ]
    }
   ],
   "source": [
    "df['name'] =[\"sa\",\"df\", \"nj\"]\n",
    "print(df)"
   ]
  },
  {
   "cell_type": "code",
   "execution_count": 93,
   "id": "b6d14d03-0db3-44b0-93e3-6ba5fcc7f69a",
   "metadata": {},
   "outputs": [
    {
     "name": "stdout",
     "output_type": "stream",
     "text": [
      "   Age  Marks Student_Name Student_Name\n",
      "0   23  85.50           sa           sa\n",
      "1   25  90.00           df           df\n",
      "2   22  78.25           nj           nj\n"
     ]
    }
   ],
   "source": [
    "df.rename(columns={'name': 'Student_Name'}, inplace=True)\n",
    "print(df)\n"
   ]
  },
  {
   "cell_type": "code",
   "execution_count": 98,
   "id": "4f95949d-4a00-494a-be86-d42e844cd413",
   "metadata": {},
   "outputs": [
    {
     "ename": "ValueError",
     "evalue": "No axis named 3 for object type DataFrame",
     "output_type": "error",
     "traceback": [
      "\u001b[1;31m---------------------------------------------------------------------------\u001b[0m",
      "\u001b[1;31mKeyError\u001b[0m                                  Traceback (most recent call last)",
      "\u001b[1;32m~\\anaconda3\\Lib\\site-packages\\pandas\\core\\generic.py\u001b[0m in \u001b[0;36m?\u001b[1;34m(cls, axis)\u001b[0m\n\u001b[0;32m    576\u001b[0m             \u001b[1;32mreturn\u001b[0m \u001b[0mcls\u001b[0m\u001b[1;33m.\u001b[0m\u001b[0m_AXIS_TO_AXIS_NUMBER\u001b[0m\u001b[1;33m[\u001b[0m\u001b[0maxis\u001b[0m\u001b[1;33m]\u001b[0m\u001b[1;33m\u001b[0m\u001b[1;33m\u001b[0m\u001b[0m\n\u001b[0;32m    577\u001b[0m         \u001b[1;32mexcept\u001b[0m \u001b[0mKeyError\u001b[0m\u001b[1;33m:\u001b[0m\u001b[1;33m\u001b[0m\u001b[1;33m\u001b[0m\u001b[0m\n\u001b[1;32m--> 578\u001b[1;33m             \u001b[1;32mraise\u001b[0m \u001b[0mValueError\u001b[0m\u001b[1;33m(\u001b[0m\u001b[1;33mf\"\u001b[0m\u001b[1;33mNo axis named \u001b[0m\u001b[1;33m{\u001b[0m\u001b[0maxis\u001b[0m\u001b[1;33m}\u001b[0m\u001b[1;33m for object type \u001b[0m\u001b[1;33m{\u001b[0m\u001b[0mcls\u001b[0m\u001b[1;33m.\u001b[0m\u001b[0m__name__\u001b[0m\u001b[1;33m}\u001b[0m\u001b[1;33m\"\u001b[0m\u001b[1;33m)\u001b[0m\u001b[1;33m\u001b[0m\u001b[1;33m\u001b[0m\u001b[0m\n\u001b[0m",
      "\u001b[1;31mKeyError\u001b[0m: 3",
      "\nDuring handling of the above exception, another exception occurred:\n",
      "\u001b[1;31mValueError\u001b[0m                                Traceback (most recent call last)",
      "\u001b[1;32m~\\AppData\\Local\\Temp\\ipykernel_16868\\2448595609.py\u001b[0m in \u001b[0;36m?\u001b[1;34m()\u001b[0m\n\u001b[1;32m----> 1\u001b[1;33m \u001b[0mdf\u001b[0m\u001b[1;33m.\u001b[0m\u001b[0mdrop\u001b[0m\u001b[1;33m(\u001b[0m\u001b[1;34m\"Student_Name\"\u001b[0m\u001b[1;33m,\u001b[0m \u001b[0maxis\u001b[0m\u001b[1;33m=\u001b[0m\u001b[1;36m3\u001b[0m\u001b[1;33m,\u001b[0m \u001b[0minplace\u001b[0m\u001b[1;33m=\u001b[0m\u001b[1;32mTrue\u001b[0m\u001b[1;33m)\u001b[0m\u001b[1;33m\u001b[0m\u001b[1;33m\u001b[0m\u001b[0m\n\u001b[0m",
      "\u001b[1;32m~\\anaconda3\\Lib\\site-packages\\pandas\\core\\frame.py\u001b[0m in \u001b[0;36m?\u001b[1;34m(self, labels, axis, index, columns, level, inplace, errors)\u001b[0m\n\u001b[0;32m   5577\u001b[0m                 \u001b[0mweight\u001b[0m  \u001b[1;36m250.0\u001b[0m   \u001b[1;36m150.0\u001b[0m\u001b[1;33m\u001b[0m\u001b[1;33m\u001b[0m\u001b[0m\n\u001b[0;32m   5578\u001b[0m         \u001b[0mfalcon\u001b[0m  \u001b[0mspeed\u001b[0m   \u001b[1;36m320.0\u001b[0m   \u001b[1;36m250.0\u001b[0m\u001b[1;33m\u001b[0m\u001b[1;33m\u001b[0m\u001b[0m\n\u001b[0;32m   5579\u001b[0m                 \u001b[0mweight\u001b[0m  \u001b[1;36m1.0\u001b[0m     \u001b[1;36m0.8\u001b[0m\u001b[1;33m\u001b[0m\u001b[1;33m\u001b[0m\u001b[0m\n\u001b[0;32m   5580\u001b[0m         \"\"\"\n\u001b[1;32m-> 5581\u001b[1;33m         return super().drop(\n\u001b[0m\u001b[0;32m   5582\u001b[0m             \u001b[0mlabels\u001b[0m\u001b[1;33m=\u001b[0m\u001b[0mlabels\u001b[0m\u001b[1;33m,\u001b[0m\u001b[1;33m\u001b[0m\u001b[1;33m\u001b[0m\u001b[0m\n\u001b[0;32m   5583\u001b[0m             \u001b[0maxis\u001b[0m\u001b[1;33m=\u001b[0m\u001b[0maxis\u001b[0m\u001b[1;33m,\u001b[0m\u001b[1;33m\u001b[0m\u001b[1;33m\u001b[0m\u001b[0m\n\u001b[0;32m   5584\u001b[0m             \u001b[0mindex\u001b[0m\u001b[1;33m=\u001b[0m\u001b[0mindex\u001b[0m\u001b[1;33m,\u001b[0m\u001b[1;33m\u001b[0m\u001b[1;33m\u001b[0m\u001b[0m\n",
      "\u001b[1;32m~\\anaconda3\\Lib\\site-packages\\pandas\\core\\generic.py\u001b[0m in \u001b[0;36m?\u001b[1;34m(self, labels, axis, index, columns, level, inplace, errors)\u001b[0m\n\u001b[0;32m   4769\u001b[0m \u001b[1;33m\u001b[0m\u001b[0m\n\u001b[0;32m   4770\u001b[0m         \u001b[1;32mif\u001b[0m \u001b[0mlabels\u001b[0m \u001b[1;32mis\u001b[0m \u001b[1;32mnot\u001b[0m \u001b[1;32mNone\u001b[0m\u001b[1;33m:\u001b[0m\u001b[1;33m\u001b[0m\u001b[1;33m\u001b[0m\u001b[0m\n\u001b[0;32m   4771\u001b[0m             \u001b[1;32mif\u001b[0m \u001b[0mindex\u001b[0m \u001b[1;32mis\u001b[0m \u001b[1;32mnot\u001b[0m \u001b[1;32mNone\u001b[0m \u001b[1;32mor\u001b[0m \u001b[0mcolumns\u001b[0m \u001b[1;32mis\u001b[0m \u001b[1;32mnot\u001b[0m \u001b[1;32mNone\u001b[0m\u001b[1;33m:\u001b[0m\u001b[1;33m\u001b[0m\u001b[1;33m\u001b[0m\u001b[0m\n\u001b[0;32m   4772\u001b[0m                 \u001b[1;32mraise\u001b[0m \u001b[0mValueError\u001b[0m\u001b[1;33m(\u001b[0m\u001b[1;34m\"Cannot specify both 'labels' and 'index'/'columns'\"\u001b[0m\u001b[1;33m)\u001b[0m\u001b[1;33m\u001b[0m\u001b[1;33m\u001b[0m\u001b[0m\n\u001b[1;32m-> 4773\u001b[1;33m             \u001b[0maxis_name\u001b[0m \u001b[1;33m=\u001b[0m \u001b[0mself\u001b[0m\u001b[1;33m.\u001b[0m\u001b[0m_get_axis_name\u001b[0m\u001b[1;33m(\u001b[0m\u001b[0maxis\u001b[0m\u001b[1;33m)\u001b[0m\u001b[1;33m\u001b[0m\u001b[1;33m\u001b[0m\u001b[0m\n\u001b[0m\u001b[0;32m   4774\u001b[0m             \u001b[0maxes\u001b[0m \u001b[1;33m=\u001b[0m \u001b[1;33m{\u001b[0m\u001b[0maxis_name\u001b[0m\u001b[1;33m:\u001b[0m \u001b[0mlabels\u001b[0m\u001b[1;33m}\u001b[0m\u001b[1;33m\u001b[0m\u001b[1;33m\u001b[0m\u001b[0m\n\u001b[0;32m   4775\u001b[0m         \u001b[1;32melif\u001b[0m \u001b[0mindex\u001b[0m \u001b[1;32mis\u001b[0m \u001b[1;32mnot\u001b[0m \u001b[1;32mNone\u001b[0m \u001b[1;32mor\u001b[0m \u001b[0mcolumns\u001b[0m \u001b[1;32mis\u001b[0m \u001b[1;32mnot\u001b[0m \u001b[1;32mNone\u001b[0m\u001b[1;33m:\u001b[0m\u001b[1;33m\u001b[0m\u001b[1;33m\u001b[0m\u001b[0m\n\u001b[0;32m   4776\u001b[0m             \u001b[0maxes\u001b[0m \u001b[1;33m=\u001b[0m \u001b[1;33m{\u001b[0m\u001b[1;34m\"index\"\u001b[0m\u001b[1;33m:\u001b[0m \u001b[0mindex\u001b[0m\u001b[1;33m}\u001b[0m\u001b[1;33m\u001b[0m\u001b[1;33m\u001b[0m\u001b[0m\n",
      "\u001b[1;32m~\\anaconda3\\Lib\\site-packages\\pandas\\core\\generic.py\u001b[0m in \u001b[0;36m?\u001b[1;34m(cls, axis)\u001b[0m\n\u001b[0;32m    580\u001b[0m     \u001b[1;33m@\u001b[0m\u001b[0mfinal\u001b[0m\u001b[1;33m\u001b[0m\u001b[1;33m\u001b[0m\u001b[0m\n\u001b[0;32m    581\u001b[0m     \u001b[1;33m@\u001b[0m\u001b[0mclassmethod\u001b[0m\u001b[1;33m\u001b[0m\u001b[1;33m\u001b[0m\u001b[0m\n\u001b[0;32m    582\u001b[0m     \u001b[1;32mdef\u001b[0m \u001b[0m_get_axis_name\u001b[0m\u001b[1;33m(\u001b[0m\u001b[0mcls\u001b[0m\u001b[1;33m,\u001b[0m \u001b[0maxis\u001b[0m\u001b[1;33m:\u001b[0m \u001b[0mAxis\u001b[0m\u001b[1;33m)\u001b[0m \u001b[1;33m->\u001b[0m \u001b[0mLiteral\u001b[0m\u001b[1;33m[\u001b[0m\u001b[1;34m\"index\"\u001b[0m\u001b[1;33m,\u001b[0m \u001b[1;34m\"columns\"\u001b[0m\u001b[1;33m]\u001b[0m\u001b[1;33m:\u001b[0m\u001b[1;33m\u001b[0m\u001b[1;33m\u001b[0m\u001b[0m\n\u001b[1;32m--> 583\u001b[1;33m         \u001b[0maxis_number\u001b[0m \u001b[1;33m=\u001b[0m \u001b[0mcls\u001b[0m\u001b[1;33m.\u001b[0m\u001b[0m_get_axis_number\u001b[0m\u001b[1;33m(\u001b[0m\u001b[0maxis\u001b[0m\u001b[1;33m)\u001b[0m\u001b[1;33m\u001b[0m\u001b[1;33m\u001b[0m\u001b[0m\n\u001b[0m\u001b[0;32m    584\u001b[0m         \u001b[1;32mreturn\u001b[0m \u001b[0mcls\u001b[0m\u001b[1;33m.\u001b[0m\u001b[0m_AXIS_ORDERS\u001b[0m\u001b[1;33m[\u001b[0m\u001b[0maxis_number\u001b[0m\u001b[1;33m]\u001b[0m\u001b[1;33m\u001b[0m\u001b[1;33m\u001b[0m\u001b[0m\n",
      "\u001b[1;32m~\\anaconda3\\Lib\\site-packages\\pandas\\core\\generic.py\u001b[0m in \u001b[0;36m?\u001b[1;34m(cls, axis)\u001b[0m\n\u001b[0;32m    574\u001b[0m     \u001b[1;32mdef\u001b[0m \u001b[0m_get_axis_number\u001b[0m\u001b[1;33m(\u001b[0m\u001b[0mcls\u001b[0m\u001b[1;33m,\u001b[0m \u001b[0maxis\u001b[0m\u001b[1;33m:\u001b[0m \u001b[0mAxis\u001b[0m\u001b[1;33m)\u001b[0m \u001b[1;33m->\u001b[0m \u001b[0mAxisInt\u001b[0m\u001b[1;33m:\u001b[0m\u001b[1;33m\u001b[0m\u001b[1;33m\u001b[0m\u001b[0m\n\u001b[0;32m    575\u001b[0m         \u001b[1;32mtry\u001b[0m\u001b[1;33m:\u001b[0m\u001b[1;33m\u001b[0m\u001b[1;33m\u001b[0m\u001b[0m\n\u001b[0;32m    576\u001b[0m             \u001b[1;32mreturn\u001b[0m \u001b[0mcls\u001b[0m\u001b[1;33m.\u001b[0m\u001b[0m_AXIS_TO_AXIS_NUMBER\u001b[0m\u001b[1;33m[\u001b[0m\u001b[0maxis\u001b[0m\u001b[1;33m]\u001b[0m\u001b[1;33m\u001b[0m\u001b[1;33m\u001b[0m\u001b[0m\n\u001b[0;32m    577\u001b[0m         \u001b[1;32mexcept\u001b[0m \u001b[0mKeyError\u001b[0m\u001b[1;33m:\u001b[0m\u001b[1;33m\u001b[0m\u001b[1;33m\u001b[0m\u001b[0m\n\u001b[1;32m--> 578\u001b[1;33m             \u001b[1;32mraise\u001b[0m \u001b[0mValueError\u001b[0m\u001b[1;33m(\u001b[0m\u001b[1;33mf\"\u001b[0m\u001b[1;33mNo axis named \u001b[0m\u001b[1;33m{\u001b[0m\u001b[0maxis\u001b[0m\u001b[1;33m}\u001b[0m\u001b[1;33m for object type \u001b[0m\u001b[1;33m{\u001b[0m\u001b[0mcls\u001b[0m\u001b[1;33m.\u001b[0m\u001b[0m__name__\u001b[0m\u001b[1;33m}\u001b[0m\u001b[1;33m\"\u001b[0m\u001b[1;33m)\u001b[0m\u001b[1;33m\u001b[0m\u001b[1;33m\u001b[0m\u001b[0m\n\u001b[0m",
      "\u001b[1;31mValueError\u001b[0m: No axis named 3 for object type DataFrame"
     ]
    }
   ],
   "source": [
    "df.drop(\"Student_Name\", axis=3, inplace=True)\n"
   ]
  },
  {
   "cell_type": "markdown",
   "id": "dac62e94-609c-4b8d-abd3-8dbd848e82a8",
   "metadata": {},
   "source": [
    "## **4. Modifying Data**\n",
    "\n",
    "| Function              | Description                   |\n",
    "| --------------------- | ----------------------------- |\n",
    "| `df['new_col'] = ...` | Create new column             |\n",
    "| `df.rename()`         | Rename columns or index       |\n",
    "| `df.drop()`           | Remove columns or rows        |\n",
    "| `df.insert()`         | Insert new column at position |\n",
    "| `df.replace()`        | Replace values                |\n",
    "| `df.astype()`         | Change data type              |\n",
    "| `df.fillna()`         | Fill missing values           |\n",
    "| `df.dropna()`         | Drop missing values           |\n"
   ]
  },
  {
   "cell_type": "code",
   "execution_count": 50,
   "id": "9e8579d7-ed72-4787-9bda-681b98bc9ac9",
   "metadata": {},
   "outputs": [],
   "source": [
    "df['name'] =[\"sa\",\"df\", \"nj\"]"
   ]
  },
  {
   "cell_type": "code",
   "execution_count": 51,
   "id": "6264c1c1-651f-410d-aa6e-e11fcd2e4445",
   "metadata": {},
   "outputs": [
    {
     "data": {
      "text/html": [
       "<div>\n",
       "<style scoped>\n",
       "    .dataframe tbody tr th:only-of-type {\n",
       "        vertical-align: middle;\n",
       "    }\n",
       "\n",
       "    .dataframe tbody tr th {\n",
       "        vertical-align: top;\n",
       "    }\n",
       "\n",
       "    .dataframe thead th {\n",
       "        text-align: right;\n",
       "    }\n",
       "</style>\n",
       "<table border=\"1\" class=\"dataframe\">\n",
       "  <thead>\n",
       "    <tr style=\"text-align: right;\">\n",
       "      <th></th>\n",
       "      <th>Age</th>\n",
       "      <th>Marks</th>\n",
       "      <th>name</th>\n",
       "    </tr>\n",
       "  </thead>\n",
       "  <tbody>\n",
       "    <tr>\n",
       "      <th>0</th>\n",
       "      <td>23</td>\n",
       "      <td>85.50</td>\n",
       "      <td>sa</td>\n",
       "    </tr>\n",
       "    <tr>\n",
       "      <th>1</th>\n",
       "      <td>25</td>\n",
       "      <td>90.00</td>\n",
       "      <td>df</td>\n",
       "    </tr>\n",
       "    <tr>\n",
       "      <th>2</th>\n",
       "      <td>22</td>\n",
       "      <td>78.25</td>\n",
       "      <td>nj</td>\n",
       "    </tr>\n",
       "  </tbody>\n",
       "</table>\n",
       "</div>"
      ],
      "text/plain": [
       "   Age  Marks name\n",
       "0   23  85.50   sa\n",
       "1   25  90.00   df\n",
       "2   22  78.25   nj"
      ]
     },
     "execution_count": 51,
     "metadata": {},
     "output_type": "execute_result"
    }
   ],
   "source": [
    "df"
   ]
  },
  {
   "cell_type": "markdown",
   "id": "d3863d04-5eb6-48a4-8cba-b67e1b133fb1",
   "metadata": {},
   "source": [
    "## **5. Aggregation & Grouping**\n",
    "\n",
    "| Function               | Description                |\n",
    "| ---------------------- | -------------------------- |\n",
    "| `df.sum()`             | Sum                        |\n",
    "| `df.mean()`            | Average                    |\n",
    "| `df.min()`, `df.max()` | Min and max                |\n",
    "| `df.count()`           | Count non-NA values        |\n",
    "| `df.value_counts()`    | Count of unique values     |\n",
    "| `df.groupby()`         | Group and aggregate        |\n",
    "| `df.agg()`             | Apply multiple aggregation |\n",
    "\n",
    "---\n",
    "\n",
    "##  **6. Sorting & Reordering**\n",
    "\n",
    "| Function           | Description            |\n",
    "| ------------------ | ---------------------- |\n",
    "| `df.sort_values()` | Sort by values         |\n",
    "| `df.sort_index()`  | Sort by index          |\n",
    "| `df.reset_index()` | Reset index to default |\n",
    "| `df.set_index()`   | Set a column as index  |\n",
    "\n",
    "---\n",
    "\n",
    "##  **7. Merging & Joining**\n",
    "\n",
    "| Function      | Description                   |\n",
    "| ------------- | ----------------------------- |\n",
    "| `pd.concat()` | Combine along rows or columns |\n",
    "| `pd.merge()`  | Merge two DataFrames          |\n",
    "| `df.join()`   | Join on index                 |\n",
    "\n",
    "---\n",
    "\n",
    "##  **8. Time Series Functions**\n",
    "\n",
    "| Function           | Description                |\n",
    "| ------------------ | -------------------------- |\n",
    "| `pd.to_datetime()` | Convert to datetime        |\n",
    "| `df.resample()`    | Resample time-series data  |\n",
    "| `df.dt`            | Access datetime attributes |\n",
    "\n",
    "---\n",
    "\n",
    "##  **9. File Operations**\n",
    "\n",
    "| Function        | Description     |\n",
    "| --------------- | --------------- |\n",
    "| `df.to_csv()`   | Export to CSV   |\n",
    "| `df.to_excel()` | Export to Excel |\n",
    "| `df.to_json()`  | Export to JSON  |\n",
    "\n",
    "---\n",
    "\n",
    "##  **10. Other Useful Functions**\n",
    "\n",
    "| Function               | Description                    |\n",
    "| ---------------------- | ------------------------------ |\n",
    "| `df.apply()`           | Apply function to rows/columns |\n",
    "| `df.map()`             | Map values (for Series)        |\n",
    "| `df.isnull()`          | Detect missing values          |\n",
    "| `df.notnull()`         | Opposite of isnull             |\n",
    "| `df.duplicated()`      | Find duplicates                |\n",
    "| `df.drop_duplicates()` | Remove duplicates              |\n",
    "\n",
    "---"
   ]
  },
  {
   "cell_type": "markdown",
   "id": "cecbbe4c-4225-4484-af59-2961db449a9e",
   "metadata": {},
   "source": [
    "<div style=\"background-color:#e2e2e2 ; padding: 10px; height: 100px; border-radius: 15px; position: relative;\">\n",
    "    <div style=\"font-family: 'Georgia', serif; font-size: 20px; padding: 10px; text-align: right; position: absolute; right: 20px;\">\n",
    "         SANJANA DEVI <br>\n",
    "        <span style=\"font-family: 'Arial', sans-serif;font-size: 12px; color: #0a0a0a;\"> AI/ML Student | Intern @ CodroidHub Private Limited | First-Year Engineering Student.</span>\n",
    "    </div>\n",
    "    <div style=\"font-family: Arial, sans-serif; font-size: 14px; line-height: 1.6;\">\n",
    "    <strong>📞 Connect @</strong><br>\n",
    "    📧 Mail (Sanjana): <a href=\"sanjanadevibihana@gmail.com\">sanjanadevibihana@gmail.com</a><br>\n",
    "    📞 Contact: <a href=\"tel:+917015898741\">+91-6283762268</a><br>\n",
    "</div>\n",
    "</div>\n",
    "\n",
    "<br>\n",
    "\n",
    "<a href=\"https://www.linkedin.com/in/sanjana-devi-a95595339/\" target=\"_blank\">\n",
    "    <button style=\"padding: 8px 15px; background-color: #0e76a8; color: white; border: none; border-radius: 5px;\">SANJANA DEVI</button>\n",
    "</a>\n",
    "\n",
    "\n",
    "\n",
    "<br><br>"
   ]
  },
  {
   "cell_type": "code",
   "execution_count": null,
   "id": "70d74674-3af0-45ab-a61e-9825906b7318",
   "metadata": {},
   "outputs": [],
   "source": []
  }
 ],
 "metadata": {
  "kernelspec": {
   "display_name": "Python 3 (ipykernel)",
   "language": "python",
   "name": "python3"
  },
  "language_info": {
   "codemirror_mode": {
    "name": "ipython",
    "version": 3
   },
   "file_extension": ".py",
   "mimetype": "text/x-python",
   "name": "python",
   "nbconvert_exporter": "python",
   "pygments_lexer": "ipython3",
   "version": "3.13.5"
  }
 },
 "nbformat": 4,
 "nbformat_minor": 5
}
